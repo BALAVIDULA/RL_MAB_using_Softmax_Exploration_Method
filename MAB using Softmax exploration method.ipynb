{
 "cells": [
  {
   "cell_type": "code",
   "execution_count": 22,
   "id": "edd4baad",
   "metadata": {},
   "outputs": [],
   "source": [
    "import gym_bandits\n",
    "import numpy as np\n",
    "import math\n",
    "import random"
   ]
  },
  {
   "cell_type": "code",
   "execution_count": 23,
   "id": "b944ec51",
   "metadata": {},
   "outputs": [],
   "source": [
    "import gym"
   ]
  },
  {
   "cell_type": "code",
   "execution_count": 43,
   "id": "647939c3",
   "metadata": {},
   "outputs": [],
   "source": [
    "env = gym.make(\"BanditTenArmedGaussian-v0\")"
   ]
  },
  {
   "cell_type": "code",
   "execution_count": 44,
   "id": "8968a9a7",
   "metadata": {},
   "outputs": [
    {
     "data": {
      "text/plain": [
       "<OrderEnforcing<PassiveEnvChecker<BanditTenArmedGaussian<BanditTenArmedGaussian-v0>>>>"
      ]
     },
     "execution_count": 44,
     "metadata": {},
     "output_type": "execute_result"
    }
   ],
   "source": [
    "env"
   ]
  },
  {
   "cell_type": "code",
   "execution_count": 45,
   "id": "43778d5f",
   "metadata": {},
   "outputs": [
    {
     "data": {
      "text/plain": [
       "Discrete(10)"
      ]
     },
     "execution_count": 45,
     "metadata": {},
     "output_type": "execute_result"
    }
   ],
   "source": [
    "env.action_space"
   ]
  },
  {
   "cell_type": "code",
   "execution_count": 46,
   "id": "9ca44303",
   "metadata": {},
   "outputs": [
    {
     "data": {
      "text/plain": [
       "0"
      ]
     },
     "execution_count": 46,
     "metadata": {},
     "output_type": "execute_result"
    }
   ],
   "source": [
    "env.reset()"
   ]
  },
  {
   "cell_type": "code",
   "execution_count": 47,
   "id": "7e72c6ea",
   "metadata": {},
   "outputs": [],
   "source": [
    " num_rounds = 20000"
   ]
  },
  {
   "cell_type": "code",
   "execution_count": 48,
   "id": "ff0ec993",
   "metadata": {},
   "outputs": [],
   "source": [
    " count = np.zeros(10)"
   ]
  },
  {
   "cell_type": "code",
   "execution_count": 49,
   "id": "7beb95a3",
   "metadata": {},
   "outputs": [],
   "source": [
    " sum_rewards = np.zeros(10)\n"
   ]
  },
  {
   "cell_type": "code",
   "execution_count": 50,
   "id": "b0393be6",
   "metadata": {},
   "outputs": [],
   "source": [
    " Q = np.zeros(10)"
   ]
  },
  {
   "cell_type": "code",
   "execution_count": 51,
   "id": "dddcaabb",
   "metadata": {},
   "outputs": [],
   "source": [
    "def softmax(tau):\n",
    "    total = sum([math.exp(val/tau) for val in Q])\n",
    "    probs = [math.exp(val/tau)/total for val in Q]\n",
    "    threshold = random.random()\n",
    "    cumulative_prob = 0.0\n",
    "    for i in range(len(probs)):\n",
    "        cumulative_prob += probs[i]\n",
    "        if (cumulative_prob > threshold):\n",
    "            return i\n",
    "    return np.argmax(probs)"
   ]
  },
  {
   "cell_type": "code",
   "execution_count": 52,
   "id": "9e189c66",
   "metadata": {},
   "outputs": [
    {
     "name": "stdout",
     "output_type": "stream",
     "text": [
      "The optimal arm is 4\n"
     ]
    }
   ],
   "source": [
    "for i in range(num_rounds):\n",
    "    # Select the arm using softmax\n",
    "    arm = softmax(0.5)\n",
    "    # Get the reward\n",
    "    \n",
    "    observation, reward, done, info = env.step(arm)\n",
    "    # update the count of that arm\n",
    "    count[arm] += 1\n",
    "    # Sum the rewards obtained from the arm\n",
    "    sum_rewards[arm]+=reward\n",
    "    # calculate Q value which is the average rewards of the arm\n",
    "    Q[arm] = sum_rewards[arm]/count[arm]\n",
    "print( 'The optimal arm is {}'.format(np.argmax(Q)))"
   ]
  },
  {
   "cell_type": "code",
   "execution_count": null,
   "id": "2b9a5b68",
   "metadata": {},
   "outputs": [],
   "source": []
  },
  {
   "cell_type": "code",
   "execution_count": null,
   "id": "4f817b4a",
   "metadata": {},
   "outputs": [],
   "source": []
  }
 ],
 "metadata": {
  "kernelspec": {
   "display_name": "Python 3 (ipykernel)",
   "language": "python",
   "name": "python3"
  },
  "language_info": {
   "codemirror_mode": {
    "name": "ipython",
    "version": 3
   },
   "file_extension": ".py",
   "mimetype": "text/x-python",
   "name": "python",
   "nbconvert_exporter": "python",
   "pygments_lexer": "ipython3",
   "version": "3.10.9"
  }
 },
 "nbformat": 4,
 "nbformat_minor": 5
}
